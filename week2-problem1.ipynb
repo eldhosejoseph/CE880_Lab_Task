{
  "cells": [
    {
      "cell_type": "markdown",
      "metadata": {
        "id": "view-in-github",
        "colab_type": "text"
      },
      "source": [
        "<a href=\"https://colab.research.google.com/github/eldhosejoseph/CE880_Lab_Task/blob/main/week2-problem1.ipynb\" target=\"_parent\"><img src=\"https://colab.research.google.com/assets/colab-badge.svg\" alt=\"Open In Colab\"/></a>"
      ]
    },
    {
      "cell_type": "markdown",
      "metadata": {
        "id": "e1ZjBG5PiAvf"
      },
      "source": [
        "Before you turn this problem in, make sure everything runs as expected. First, **restart the kernel** (in the menubar, select Kernel$\\rightarrow$Restart) and then **run all cells** (in the menubar, select Cell$\\rightarrow$Run All).\n",
        "\n",
        "Make sure you fill in any place that says `YOUR CODE HERE` or \"YOUR ANSWER HERE\", as well as your name and collaborators below:"
      ]
    },
    {
      "cell_type": "code",
      "execution_count": null,
      "metadata": {
        "id": "DssZIT3hiAvg"
      },
      "outputs": [],
      "source": [
        "NAME = \"ELDHOSE JOSEPH\"\n",
        "COLLABORATORS = \"PROF. HAIDER RAZA\""
      ]
    },
    {
      "cell_type": "markdown",
      "metadata": {
        "id": "Kg2suUvUiAvg"
      },
      "source": [
        "---"
      ]
    },
    {
      "cell_type": "markdown",
      "metadata": {
        "id": "GxuUNDiQiAvh"
      },
      "source": [
        "---\n",
        "# Welcome to CE880\n",
        "### This is your week-2 : Problem 1 notebook\n",
        "### Autumn Term 2023-24\n",
        "#### Prepared by Dr Haider Raza\n",
        "\n",
        "For this problem set, we'll be using the Jupyter notebook and please upload this notebook to [Google Colab](https://colab.research.google.com/).\n"
      ]
    },
    {
      "cell_type": "markdown",
      "metadata": {
        "id": "cYeqmz2EiAvh"
      },
      "source": [
        "---\n",
        "## Question 1:\n",
        "\n",
        "Write a Python function that takes a list of numbers and returns a list of their cosine values.\n",
        "\n",
        "By solving this question correctly you will get 1 point."
      ]
    },
    {
      "cell_type": "code",
      "execution_count": null,
      "metadata": {
        "deletable": false,
        "nbgrader": {
          "cell_type": "code",
          "checksum": "ff033038baa3a1c0854a8cafdd2a353b",
          "grade": false,
          "grade_id": "cosine_ans",
          "locked": false,
          "schema_version": 3,
          "solution": true
        },
        "id": "fA_5oUj0iAvh"
      },
      "outputs": [],
      "source": [
        "import math\n",
        "import numpy as np\n",
        "def calculate_cosine_of_list(numbers):\n",
        "    \"\"\"Write a Python function that takes a list of numbers and returns a list of their cosine values \"\"\"\n",
        "    # YOUR CODE HERE\n",
        "    list=np.array(numbers)\n",
        "    cos=(np.cos(list))\n",
        "    rlist=[]\n",
        "    for n in cos:\n",
        "      rlist.append(round(n,2))\n",
        "    return rlist\n",
        "    #raise NotImplementedError()"
      ]
    },
    {
      "cell_type": "code",
      "execution_count": null,
      "metadata": {
        "colab": {
          "base_uri": "https://localhost:8080/"
        },
        "id": "ZSHhY3NIiAvh",
        "outputId": "13dbddeb-3ab3-4462-e80b-9b3f57fe9bc0"
      },
      "outputs": [
        {
          "output_type": "stream",
          "name": "stdout",
          "text": [
            "[1.0, -0.42, 1.0, -0.26, 0.15, 1.0]\n"
          ]
        }
      ],
      "source": [
        "numbers = [0, -2, 44, -61, -30, 44]\n",
        "cosine_result = calculate_cosine_of_list(numbers)\n",
        "print(cosine_result)"
      ]
    },
    {
      "cell_type": "code",
      "execution_count": null,
      "metadata": {
        "deletable": false,
        "editable": false,
        "nbgrader": {
          "cell_type": "code",
          "checksum": "12ec39c2300df6dae98e98236cd13d5d",
          "grade": true,
          "grade_id": "cosine_test",
          "locked": false,
          "points": 1,
          "schema_version": 3,
          "solution": false
        },
        "id": "hucI9e7-iAvh"
      },
      "outputs": [],
      "source": [
        "\"\"\"Check your answer by running this cell\"\"\"\n",
        "\n",
        "# Test case 1\n",
        "my = [0, math.pi / 2, math.pi, 100, 200, 230]\n",
        "assert calculate_cosine_of_list(my) == [1.0, 0.0, -1.0, 0.86, 0.49, -0.79]\n",
        "\n",
        "\n",
        "# Test case 2\n",
        "my = [0, 2, 4, 6, -30, 400]\n",
        "assert calculate_cosine_of_list(my) == [1.0, -0.42, -0.65, 0.96, 0.15, -0.53]\n"
      ]
    },
    {
      "cell_type": "markdown",
      "metadata": {
        "id": "knW3oziAiAvh"
      },
      "source": [
        "---\n",
        "\n",
        "## Question 2:\n",
        "\n",
        "Given an array of integers, find two numbers such that they add up to a specific target sum. Return the indices of the two numbers. For example, given the array `[2, 7, 11, 15]` and the target `9`, the function should return `[0, 1]` since `2 + 7 = 9`.\n",
        "\n",
        "By solving this question correctly you will get 1 point."
      ]
    },
    {
      "cell_type": "code",
      "execution_count": null,
      "metadata": {
        "deletable": false,
        "nbgrader": {
          "cell_type": "code",
          "checksum": "d1ee6e06bb2ce6104d67f4aadaccfdae",
          "grade": false,
          "grade_id": "twosum_ans",
          "locked": false,
          "schema_version": 3,
          "solution": true
        },
        "id": "q-KzR2UWiAvi"
      },
      "outputs": [],
      "source": [
        "def two_sum(nums, target):\n",
        "    \"\"\"Given an array of integers, find two numbers such that they add\n",
        "    up to a specific target sum. Return the indices of the two numbers.\"\"\"\n",
        "    # YOUR CODE HERE\n",
        "    list=[]\n",
        "    for n in nums:\n",
        "      for m in nums:\n",
        "        if n+m==target:\n",
        "          list.append(n)\n",
        "          list.append(m)\n",
        "\n",
        "        else: continue\n",
        "    ilist=[]\n",
        "    for i in range(len(nums)):\n",
        "      for j in range(len(list)):\n",
        "        if nums[i]==list[j]:\n",
        "          ilist.append(i)\n",
        "          break\n",
        "        else: continue\n",
        "\n",
        "    return ilist\n",
        "\n",
        "    #raise NotImplementedError()"
      ]
    },
    {
      "cell_type": "code",
      "execution_count": null,
      "metadata": {
        "colab": {
          "base_uri": "https://localhost:8080/"
        },
        "id": "EXzDCwpIiAvi",
        "outputId": "a8914784-43c7-492b-f688-29504f7dda57"
      },
      "outputs": [
        {
          "output_type": "stream",
          "name": "stdout",
          "text": [
            "[0, 1]\n"
          ]
        }
      ],
      "source": [
        "# Example for students\n",
        "nums = [2, 7, 11, 15]\n",
        "target = 9\n",
        "result = two_sum(nums, target)\n",
        "print(result)"
      ]
    },
    {
      "cell_type": "code",
      "execution_count": null,
      "metadata": {
        "deletable": false,
        "editable": false,
        "nbgrader": {
          "cell_type": "code",
          "checksum": "f4ddff07e93a2d08f1421f01ef9df298",
          "grade": true,
          "grade_id": "twosum_test",
          "locked": false,
          "points": 1,
          "schema_version": 3,
          "solution": false
        },
        "id": "yGw0pttziAvi"
      },
      "outputs": [],
      "source": [
        "\"\"\"Check your answer by running this cell\"\"\"\n",
        "\n",
        "# Case 1\n",
        "nums = [17, 12, 31, 6]\n",
        "target = 37\n",
        "assert two_sum(nums, target) == [2, 3]\n",
        "\n",
        "# Case 2\n",
        "nums = [1, 2, 4, 6, 30, 40]\n",
        "target = 31\n",
        "assert two_sum(nums, target) == [0, 4]\n"
      ]
    },
    {
      "cell_type": "code",
      "source": [],
      "metadata": {
        "id": "nhsCPvFarCcA"
      },
      "execution_count": null,
      "outputs": []
    },
    {
      "cell_type": "markdown",
      "metadata": {
        "id": "QRJdg2mDiAvi"
      },
      "source": [
        "---\n",
        "## Question 3:\n",
        "\n",
        "Given an array containing all integers from `0` to `n` except for one missing number, find the missing number. For example, given `[3, 0, 1]`, the missing number is `2`.\n",
        "\n",
        "By solving this question correctly you will get 1 point."
      ]
    },
    {
      "cell_type": "code",
      "execution_count": null,
      "metadata": {
        "deletable": false,
        "nbgrader": {
          "cell_type": "code",
          "checksum": "547f47767c2e828bb2ffef564ce7f230",
          "grade": false,
          "grade_id": "missnum_ans",
          "locked": false,
          "schema_version": 3,
          "solution": true,
          "task": false
        },
        "id": "bTRPJUkEiAvi"
      },
      "outputs": [],
      "source": [
        "\n",
        "def find_missing_number(nums):\n",
        "    \"\"\"Given an array containing all integers from 0 to n except for one missing number,\n",
        "    find the missing number. For example, given [3, 0, 1],\n",
        "    the missing number is 2.\"\"\"\n",
        "    # YOUR CODE HERE\n",
        "    mislist=[]\n",
        "    for n in range(min(nums),len(nums)):\n",
        "      if n not in nums: mislist.append(n)\n",
        "      else: continue\n",
        "    value=mislist[0]\n",
        "    return value\n",
        "\n",
        "    #raise NotImplementedError()"
      ]
    },
    {
      "cell_type": "code",
      "execution_count": null,
      "metadata": {
        "id": "KClkWAKJiAvi",
        "outputId": "299f9e50-f927-46ab-ef22-0db5a7b12d92",
        "colab": {
          "base_uri": "https://localhost:8080/"
        }
      },
      "outputs": [
        {
          "output_type": "stream",
          "name": "stdout",
          "text": [
            "2\n"
          ]
        }
      ],
      "source": [
        "nums = [3, 0, 1]\n",
        "result = find_missing_number(nums)\n",
        "print(result)"
      ]
    },
    {
      "cell_type": "code",
      "execution_count": null,
      "metadata": {
        "deletable": false,
        "editable": false,
        "nbgrader": {
          "cell_type": "code",
          "checksum": "183cf5169e8c6124b54fbc8c962496fd",
          "grade": true,
          "grade_id": "missnum_test",
          "locked": true,
          "points": 1,
          "schema_version": 3,
          "solution": false,
          "task": false
        },
        "id": "NPxSkvBviAvj"
      },
      "outputs": [],
      "source": [
        "\"\"\"Check your answer by running this cell\"\"\"\n",
        "# Case 1\n",
        "nums = [3, 0, 1]\n",
        "assert find_missing_number(nums)== 2\n",
        "\n",
        "# Case 2\n",
        "nums = [4, 5, 6, 2, 0, 1]\n",
        "assert find_missing_number(nums) == 3\n"
      ]
    },
    {
      "cell_type": "markdown",
      "metadata": {
        "id": "tQZP6XTYiAvj"
      },
      "source": [
        "## Pandas Data Frame\n"
      ]
    },
    {
      "cell_type": "code",
      "execution_count": 1,
      "metadata": {
        "id": "kLrhbBe_iAvj",
        "outputId": "44d0825b-2e65-4b5d-a10b-920f3c3f321e",
        "colab": {
          "base_uri": "https://localhost:8080/",
          "height": 174
        }
      },
      "outputs": [
        {
          "output_type": "execute_result",
          "data": {
            "text/plain": [
              "      Name  Age         City\n",
              "0    Alice   25     New York\n",
              "1      Bob   30  Los Angeles\n",
              "2  Charlie   28      Chicago\n",
              "3    David   35      Houston"
            ],
            "text/html": [
              "\n",
              "  <div id=\"df-f9cb303b-10ca-4f33-89a4-0d4de1eb0e7c\" class=\"colab-df-container\">\n",
              "    <div>\n",
              "<style scoped>\n",
              "    .dataframe tbody tr th:only-of-type {\n",
              "        vertical-align: middle;\n",
              "    }\n",
              "\n",
              "    .dataframe tbody tr th {\n",
              "        vertical-align: top;\n",
              "    }\n",
              "\n",
              "    .dataframe thead th {\n",
              "        text-align: right;\n",
              "    }\n",
              "</style>\n",
              "<table border=\"1\" class=\"dataframe\">\n",
              "  <thead>\n",
              "    <tr style=\"text-align: right;\">\n",
              "      <th></th>\n",
              "      <th>Name</th>\n",
              "      <th>Age</th>\n",
              "      <th>City</th>\n",
              "    </tr>\n",
              "  </thead>\n",
              "  <tbody>\n",
              "    <tr>\n",
              "      <th>0</th>\n",
              "      <td>Alice</td>\n",
              "      <td>25</td>\n",
              "      <td>New York</td>\n",
              "    </tr>\n",
              "    <tr>\n",
              "      <th>1</th>\n",
              "      <td>Bob</td>\n",
              "      <td>30</td>\n",
              "      <td>Los Angeles</td>\n",
              "    </tr>\n",
              "    <tr>\n",
              "      <th>2</th>\n",
              "      <td>Charlie</td>\n",
              "      <td>28</td>\n",
              "      <td>Chicago</td>\n",
              "    </tr>\n",
              "    <tr>\n",
              "      <th>3</th>\n",
              "      <td>David</td>\n",
              "      <td>35</td>\n",
              "      <td>Houston</td>\n",
              "    </tr>\n",
              "  </tbody>\n",
              "</table>\n",
              "</div>\n",
              "    <div class=\"colab-df-buttons\">\n",
              "\n",
              "  <div class=\"colab-df-container\">\n",
              "    <button class=\"colab-df-convert\" onclick=\"convertToInteractive('df-f9cb303b-10ca-4f33-89a4-0d4de1eb0e7c')\"\n",
              "            title=\"Convert this dataframe to an interactive table.\"\n",
              "            style=\"display:none;\">\n",
              "\n",
              "  <svg xmlns=\"http://www.w3.org/2000/svg\" height=\"24px\" viewBox=\"0 -960 960 960\">\n",
              "    <path d=\"M120-120v-720h720v720H120Zm60-500h600v-160H180v160Zm220 220h160v-160H400v160Zm0 220h160v-160H400v160ZM180-400h160v-160H180v160Zm440 0h160v-160H620v160ZM180-180h160v-160H180v160Zm440 0h160v-160H620v160Z\"/>\n",
              "  </svg>\n",
              "    </button>\n",
              "\n",
              "  <style>\n",
              "    .colab-df-container {\n",
              "      display:flex;\n",
              "      gap: 12px;\n",
              "    }\n",
              "\n",
              "    .colab-df-convert {\n",
              "      background-color: #E8F0FE;\n",
              "      border: none;\n",
              "      border-radius: 50%;\n",
              "      cursor: pointer;\n",
              "      display: none;\n",
              "      fill: #1967D2;\n",
              "      height: 32px;\n",
              "      padding: 0 0 0 0;\n",
              "      width: 32px;\n",
              "    }\n",
              "\n",
              "    .colab-df-convert:hover {\n",
              "      background-color: #E2EBFA;\n",
              "      box-shadow: 0px 1px 2px rgba(60, 64, 67, 0.3), 0px 1px 3px 1px rgba(60, 64, 67, 0.15);\n",
              "      fill: #174EA6;\n",
              "    }\n",
              "\n",
              "    .colab-df-buttons div {\n",
              "      margin-bottom: 4px;\n",
              "    }\n",
              "\n",
              "    [theme=dark] .colab-df-convert {\n",
              "      background-color: #3B4455;\n",
              "      fill: #D2E3FC;\n",
              "    }\n",
              "\n",
              "    [theme=dark] .colab-df-convert:hover {\n",
              "      background-color: #434B5C;\n",
              "      box-shadow: 0px 1px 3px 1px rgba(0, 0, 0, 0.15);\n",
              "      filter: drop-shadow(0px 1px 2px rgba(0, 0, 0, 0.3));\n",
              "      fill: #FFFFFF;\n",
              "    }\n",
              "  </style>\n",
              "\n",
              "    <script>\n",
              "      const buttonEl =\n",
              "        document.querySelector('#df-f9cb303b-10ca-4f33-89a4-0d4de1eb0e7c button.colab-df-convert');\n",
              "      buttonEl.style.display =\n",
              "        google.colab.kernel.accessAllowed ? 'block' : 'none';\n",
              "\n",
              "      async function convertToInteractive(key) {\n",
              "        const element = document.querySelector('#df-f9cb303b-10ca-4f33-89a4-0d4de1eb0e7c');\n",
              "        const dataTable =\n",
              "          await google.colab.kernel.invokeFunction('convertToInteractive',\n",
              "                                                    [key], {});\n",
              "        if (!dataTable) return;\n",
              "\n",
              "        const docLinkHtml = 'Like what you see? Visit the ' +\n",
              "          '<a target=\"_blank\" href=https://colab.research.google.com/notebooks/data_table.ipynb>data table notebook</a>'\n",
              "          + ' to learn more about interactive tables.';\n",
              "        element.innerHTML = '';\n",
              "        dataTable['output_type'] = 'display_data';\n",
              "        await google.colab.output.renderOutput(dataTable, element);\n",
              "        const docLink = document.createElement('div');\n",
              "        docLink.innerHTML = docLinkHtml;\n",
              "        element.appendChild(docLink);\n",
              "      }\n",
              "    </script>\n",
              "  </div>\n",
              "\n",
              "\n",
              "<div id=\"df-6973df55-3cff-4484-b491-9059617746b8\">\n",
              "  <button class=\"colab-df-quickchart\" onclick=\"quickchart('df-6973df55-3cff-4484-b491-9059617746b8')\"\n",
              "            title=\"Suggest charts.\"\n",
              "            style=\"display:none;\">\n",
              "\n",
              "<svg xmlns=\"http://www.w3.org/2000/svg\" height=\"24px\"viewBox=\"0 0 24 24\"\n",
              "     width=\"24px\">\n",
              "    <g>\n",
              "        <path d=\"M19 3H5c-1.1 0-2 .9-2 2v14c0 1.1.9 2 2 2h14c1.1 0 2-.9 2-2V5c0-1.1-.9-2-2-2zM9 17H7v-7h2v7zm4 0h-2V7h2v10zm4 0h-2v-4h2v4z\"/>\n",
              "    </g>\n",
              "</svg>\n",
              "  </button>\n",
              "\n",
              "<style>\n",
              "  .colab-df-quickchart {\n",
              "      --bg-color: #E8F0FE;\n",
              "      --fill-color: #1967D2;\n",
              "      --hover-bg-color: #E2EBFA;\n",
              "      --hover-fill-color: #174EA6;\n",
              "      --disabled-fill-color: #AAA;\n",
              "      --disabled-bg-color: #DDD;\n",
              "  }\n",
              "\n",
              "  [theme=dark] .colab-df-quickchart {\n",
              "      --bg-color: #3B4455;\n",
              "      --fill-color: #D2E3FC;\n",
              "      --hover-bg-color: #434B5C;\n",
              "      --hover-fill-color: #FFFFFF;\n",
              "      --disabled-bg-color: #3B4455;\n",
              "      --disabled-fill-color: #666;\n",
              "  }\n",
              "\n",
              "  .colab-df-quickchart {\n",
              "    background-color: var(--bg-color);\n",
              "    border: none;\n",
              "    border-radius: 50%;\n",
              "    cursor: pointer;\n",
              "    display: none;\n",
              "    fill: var(--fill-color);\n",
              "    height: 32px;\n",
              "    padding: 0;\n",
              "    width: 32px;\n",
              "  }\n",
              "\n",
              "  .colab-df-quickchart:hover {\n",
              "    background-color: var(--hover-bg-color);\n",
              "    box-shadow: 0 1px 2px rgba(60, 64, 67, 0.3), 0 1px 3px 1px rgba(60, 64, 67, 0.15);\n",
              "    fill: var(--button-hover-fill-color);\n",
              "  }\n",
              "\n",
              "  .colab-df-quickchart-complete:disabled,\n",
              "  .colab-df-quickchart-complete:disabled:hover {\n",
              "    background-color: var(--disabled-bg-color);\n",
              "    fill: var(--disabled-fill-color);\n",
              "    box-shadow: none;\n",
              "  }\n",
              "\n",
              "  .colab-df-spinner {\n",
              "    border: 2px solid var(--fill-color);\n",
              "    border-color: transparent;\n",
              "    border-bottom-color: var(--fill-color);\n",
              "    animation:\n",
              "      spin 1s steps(1) infinite;\n",
              "  }\n",
              "\n",
              "  @keyframes spin {\n",
              "    0% {\n",
              "      border-color: transparent;\n",
              "      border-bottom-color: var(--fill-color);\n",
              "      border-left-color: var(--fill-color);\n",
              "    }\n",
              "    20% {\n",
              "      border-color: transparent;\n",
              "      border-left-color: var(--fill-color);\n",
              "      border-top-color: var(--fill-color);\n",
              "    }\n",
              "    30% {\n",
              "      border-color: transparent;\n",
              "      border-left-color: var(--fill-color);\n",
              "      border-top-color: var(--fill-color);\n",
              "      border-right-color: var(--fill-color);\n",
              "    }\n",
              "    40% {\n",
              "      border-color: transparent;\n",
              "      border-right-color: var(--fill-color);\n",
              "      border-top-color: var(--fill-color);\n",
              "    }\n",
              "    60% {\n",
              "      border-color: transparent;\n",
              "      border-right-color: var(--fill-color);\n",
              "    }\n",
              "    80% {\n",
              "      border-color: transparent;\n",
              "      border-right-color: var(--fill-color);\n",
              "      border-bottom-color: var(--fill-color);\n",
              "    }\n",
              "    90% {\n",
              "      border-color: transparent;\n",
              "      border-bottom-color: var(--fill-color);\n",
              "    }\n",
              "  }\n",
              "</style>\n",
              "\n",
              "  <script>\n",
              "    async function quickchart(key) {\n",
              "      const quickchartButtonEl =\n",
              "        document.querySelector('#' + key + ' button');\n",
              "      quickchartButtonEl.disabled = true;  // To prevent multiple clicks.\n",
              "      quickchartButtonEl.classList.add('colab-df-spinner');\n",
              "      try {\n",
              "        const charts = await google.colab.kernel.invokeFunction(\n",
              "            'suggestCharts', [key], {});\n",
              "      } catch (error) {\n",
              "        console.error('Error during call to suggestCharts:', error);\n",
              "      }\n",
              "      quickchartButtonEl.classList.remove('colab-df-spinner');\n",
              "      quickchartButtonEl.classList.add('colab-df-quickchart-complete');\n",
              "    }\n",
              "    (() => {\n",
              "      let quickchartButtonEl =\n",
              "        document.querySelector('#df-6973df55-3cff-4484-b491-9059617746b8 button');\n",
              "      quickchartButtonEl.style.display =\n",
              "        google.colab.kernel.accessAllowed ? 'block' : 'none';\n",
              "    })();\n",
              "  </script>\n",
              "</div>\n",
              "    </div>\n",
              "  </div>\n"
            ]
          },
          "metadata": {},
          "execution_count": 1
        }
      ],
      "source": [
        "from sklearn import datasets\n",
        "import pandas as pd\n",
        "# Create a sample DataFrame\n",
        "data = {\n",
        "    'Name': ['Alice', 'Bob', 'Charlie', 'David'],\n",
        "    'Age': [25, 30, 28, 35],\n",
        "    'City': ['New York', 'Los Angeles', 'Chicago', 'Houston']\n",
        "}\n",
        "df = pd.DataFrame(data)\n",
        "df"
      ]
    },
    {
      "cell_type": "markdown",
      "metadata": {
        "id": "15Rvgn4ciAvj"
      },
      "source": [
        "---\n",
        "## Question 4:\n",
        "\n",
        "Write a function to Find the age of the person named `Bob` and `Bob` is not in the Data Frame then return `0`.\n",
        "\n",
        "By solving this question correctly you will get 2 points."
      ]
    },
    {
      "cell_type": "code",
      "execution_count": 119,
      "metadata": {
        "deletable": false,
        "nbgrader": {
          "cell_type": "code",
          "checksum": "64513603b09c32109925f76aae276034",
          "grade": false,
          "grade_id": "findele_ans",
          "locked": false,
          "schema_version": 3,
          "solution": true,
          "task": false
        },
        "id": "GnbS1AIziAvj"
      },
      "outputs": [],
      "source": [
        "def find_element(dataframe, name):\n",
        "    \"\"\"Write a function to Find the age of the person named \"Bob\" \"\"\"\n",
        "    # YOUR CODE HERE\n",
        "\n",
        "    df=dataframe[dataframe[\"Name\"].isin([name])]\n",
        "\n",
        "    if df.empty==True: return 0\n",
        "    else: return int(df[\"Age\"])\n",
        "\n",
        "    #raise NotImplementedError()"
      ]
    },
    {
      "cell_type": "code",
      "source": [
        "find_element(df, \"Bob\")"
      ],
      "metadata": {
        "id": "fFAd0DXpualg",
        "outputId": "eccfd31c-9a9d-4af0-98bc-68bbf1740b23",
        "colab": {
          "base_uri": "https://localhost:8080/"
        }
      },
      "execution_count": 121,
      "outputs": [
        {
          "output_type": "execute_result",
          "data": {
            "text/plain": [
              "30"
            ]
          },
          "metadata": {},
          "execution_count": 121
        }
      ]
    },
    {
      "cell_type": "code",
      "execution_count": 122,
      "metadata": {
        "deletable": false,
        "editable": false,
        "nbgrader": {
          "cell_type": "code",
          "checksum": "2c07a1de91b894d2aa08755481efdf7f",
          "grade": true,
          "grade_id": "findele_test",
          "locked": true,
          "points": 2,
          "schema_version": 3,
          "solution": false,
          "task": false
        },
        "id": "OBgPRXkYiAvj"
      },
      "outputs": [],
      "source": [
        "assert find_element(df, 'Bob') == 30\n",
        "assert find_element(df, 'Charlie') == 28\n",
        "assert find_element(df, 'CE880') == 0"
      ]
    },
    {
      "cell_type": "markdown",
      "metadata": {
        "id": "g5LgvfMyiAvj"
      },
      "source": [
        "---\n",
        "## Question 5:\n",
        "\n",
        "\n",
        "Write a function to calculate the `mean` and `standard deviation` of `Age`. `Hint` Create a list and append value to it and return the output.\n",
        "\n",
        "By solving this question correctly you will get 1 point."
      ]
    },
    {
      "cell_type": "code",
      "execution_count": null,
      "metadata": {
        "id": "uPEThwsfiAvj"
      },
      "outputs": [],
      "source": []
    },
    {
      "cell_type": "code",
      "execution_count": null,
      "metadata": {
        "deletable": false,
        "nbgrader": {
          "cell_type": "code",
          "checksum": "18aa564be6881c41bbe0271904b270ce",
          "grade": false,
          "grade_id": "stats_ans",
          "locked": false,
          "schema_version": 3,
          "solution": true,
          "task": false
        },
        "id": "8yOdVnIqiAvk"
      },
      "outputs": [],
      "source": [
        "def stats(X):\n",
        "    \"\"\"Write a functon to calculate mean and standard deviation of Age from the\n",
        "    above dataframe df and round the values to 2 decimals points .\"\"\"\n",
        "    # YOUR CODE HERE\n",
        "    raise NotImplementedError()"
      ]
    },
    {
      "cell_type": "code",
      "execution_count": null,
      "metadata": {
        "deletable": false,
        "editable": false,
        "nbgrader": {
          "cell_type": "code",
          "checksum": "80f05caa001e1201d5efbcbb906e4c1d",
          "grade": true,
          "grade_id": "stats_test",
          "locked": true,
          "points": 1,
          "schema_version": 3,
          "solution": false,
          "task": false
        },
        "id": "WTqyTldFiAvk"
      },
      "outputs": [],
      "source": [
        "\"\"\"Check your output\"\"\"\n",
        "# Test case\n",
        "x = stats(df)\n",
        "y= [29.5, 4.2]\n",
        "np.testing.assert_allclose(x, y, rtol=0.05, atol=0)"
      ]
    }
  ],
  "metadata": {
    "kernelspec": {
      "display_name": "Python 3",
      "language": "python",
      "name": "python3"
    },
    "language_info": {
      "codemirror_mode": {
        "name": "ipython",
        "version": 3
      },
      "file_extension": ".py",
      "mimetype": "text/x-python",
      "name": "python",
      "nbconvert_exporter": "python",
      "pygments_lexer": "ipython3",
      "version": "3.7.11"
    },
    "colab": {
      "provenance": [],
      "include_colab_link": true
    }
  },
  "nbformat": 4,
  "nbformat_minor": 0
}